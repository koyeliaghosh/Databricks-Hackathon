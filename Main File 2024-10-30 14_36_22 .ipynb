{
 "cells": [
  {
   "cell_type": "code",
   "execution_count": 0,
   "metadata": {
    "application/vnd.databricks.v1+cell": {
     "cellMetadata": {
      "byteLimit": 2048000,
      "implicitDf": true,
      "rowLimit": 10000
     },
     "inputWidgets": {},
     "nuid": "8c7de134-d115-449d-b282-788db9b9167e",
     "showTitle": false,
     "tableResultSettingsMap": {},
     "title": ""
    }
   },
   "outputs": [],
   "source": [
    "%sql\n",
    "ALTER TABLE `databrickshackathon`.`default`.`laptop_procurement_data` SET TBLPROPERTIES (delta.enableChangeDataFeed = true)"
   ]
  },
  {
   "cell_type": "code",
   "execution_count": 0,
   "metadata": {
    "application/vnd.databricks.v1+cell": {
     "cellMetadata": {
      "byteLimit": 2048000,
      "rowLimit": 10000
     },
     "inputWidgets": {},
     "nuid": "4d7c34e1-2aa9-42e3-a9ab-f5088bb44d5f",
     "showTitle": false,
     "tableResultSettingsMap": {},
     "title": ""
    }
   },
   "outputs": [
    {
     "output_type": "stream",
     "name": "stdout",
     "output_type": "stream",
     "text": [
      "\u001B[33mWARNING: Skipping mlflow as it is not installed.\u001B[0m\u001B[33m\n\u001B[0mFound existing installation: mlflow-skinny 2.11.4\nNot uninstalling mlflow-skinny at /databricks/python3/lib/python3.11/site-packages, outside environment /local_disk0/.ephemeral_nfs/envs/pythonEnv-2f3d835f-8aaf-4a6c-9a7f-384e3e76ccb0\nCan't uninstall 'mlflow-skinny'. No files were found to uninstall.\n\u001B[43mNote: you may need to restart the kernel using %restart_python or dbutils.library.restartPython() to use updated packages.\u001B[0m\n\u001B[43mNote: you may need to restart the kernel using %restart_python or dbutils.library.restartPython() to use updated packages.\u001B[0m\n"
     ]
    }
   ],
   "source": [
    "%pip uninstall -y mlflow mlflow-skinny\n",
    "%pip install -U -qqqq databricks-agents mlflow mlflow-skinny databricks-vectorsearch databricks-sdk langchain==0.2.1 langchain_core==0.2.5 langchain_community==0.2.4 \n",
    "dbutils.library.restartPython()"
   ]
  },
  {
   "cell_type": "code",
   "execution_count": 0,
   "metadata": {
    "application/vnd.databricks.v1+cell": {
     "cellMetadata": {
      "byteLimit": 2048000,
      "rowLimit": 10000
     },
     "inputWidgets": {},
     "nuid": "9236fb41-d98e-468f-b3d3-c8cdb571f910",
     "showTitle": false,
     "tableResultSettingsMap": {},
     "title": ""
    }
   },
   "outputs": [
    {
     "output_type": "stream",
     "name": "stdout",
     "output_type": "stream",
     "text": [
      "Found existing installation: mlflow 2.17.1\nUninstalling mlflow-2.17.1:\n  Successfully uninstalled mlflow-2.17.1\nFound existing installation: mlflow-skinny 2.17.1\nUninstalling mlflow-skinny-2.17.1:\n  Successfully uninstalled mlflow-skinny-2.17.1\n\u001B[43mNote: you may need to restart the kernel using %restart_python or dbutils.library.restartPython() to use updated packages.\u001B[0m\n\u001B[43mNote: you may need to restart the kernel using %restart_python or dbutils.library.restartPython() to use updated packages.\u001B[0m\n"
     ]
    }
   ],
   "source": [
    "%pip uninstall -y mlflow mlflow-skinny\n",
    "%pip install -U -qqqq databricks-agents mlflow mlflow-skinny databricks-vectorsearch databricks-sdk langchain==0.2.1 langchain_core==0.2.5 langchain_community==0.2.4 \n",
    "dbutils.library.restartPython()"
   ]
  },
  {
   "cell_type": "code",
   "execution_count": 0,
   "metadata": {
    "application/vnd.databricks.v1+cell": {
     "cellMetadata": {
      "byteLimit": 2048000,
      "implicitDf": true,
      "rowLimit": 10000
     },
     "inputWidgets": {},
     "nuid": "8bf1b8d0-f497-47b6-9263-5bde61105218",
     "showTitle": false,
     "tableResultSettingsMap": {},
     "title": ""
    }
   },
   "outputs": [
    {
     "output_type": "display_data",
     "data": {
      "text/html": [
       "<style scoped>\n",
       "  .table-result-container {\n",
       "    max-height: 300px;\n",
       "    overflow: auto;\n",
       "  }\n",
       "  table, th, td {\n",
       "    border: 1px solid black;\n",
       "    border-collapse: collapse;\n",
       "  }\n",
       "  th, td {\n",
       "    padding: 5px;\n",
       "  }\n",
       "  th {\n",
       "    text-align: left;\n",
       "  }\n",
       "</style><div class='table-result-container'><table class='table-result'><thead style='background-color: white'><tr><th>Index</th><th>Laptop</th><th>Brand</th><th>Model</th><th>GPU</th><th>Screen</th><th>Price_Dollar</th><th>Purchase_Number</th><th>Country</th><th>Month</th><th>search_score</th></tr></thead><tbody><tr><td>47</td><td>Lenovo Thinkpad E14 Gen 4 AMD Ryzen 5 5625U/8GB/256GB SSD/14\"</td><td>Lenovo</td><td>ThinkPad</td><td>RTX 3050</td><td>15.6</td><td>929.0</td><td>100000</td><td>Republic of Ireland</td><td>Mar</td><td>0.5277951</td></tr><tr><td>79</td><td>Lenovo Thinkpad E14 Gen 4 AMD Ryzen 5 5625U/8GB/256GB SSD/14\"</td><td>Lenovo</td><td>ThinkPad</td><td>null</td><td>15.6</td><td>879.0</td><td>100000</td><td>Australia</td><td>Dec </td><td>0.5277951</td></tr></tbody></table></div>"
      ]
     },
     "metadata": {
      "application/vnd.databricks.v1+output": {
       "addedWidgets": {},
       "aggData": [],
       "aggError": "",
       "aggOverflow": false,
       "aggSchema": [],
       "aggSeriesLimitReached": false,
       "aggType": "",
       "arguments": {},
       "columnCustomDisplayInfos": {},
       "data": [
        [
         47,
         "Lenovo Thinkpad E14 Gen 4 AMD Ryzen 5 5625U/8GB/256GB SSD/14\"",
         "Lenovo",
         "ThinkPad",
         "RTX 3050",
         15.6,
         929.0,
         100000,
         "Republic of Ireland",
         "Mar",
         0.5277951
        ],
        [
         79,
         "Lenovo Thinkpad E14 Gen 4 AMD Ryzen 5 5625U/8GB/256GB SSD/14\"",
         "Lenovo",
         "ThinkPad",
         null,
         15.6,
         879.0,
         100000,
         "Australia",
         "Dec ",
         0.5277951
        ]
       ],
       "datasetInfos": [],
       "dbfsResultPath": null,
       "isJsonSchema": true,
       "metadata": {},
       "overflow": false,
       "plotOptions": {
        "customPlotOptions": {},
        "displayType": "table",
        "pivotAggregation": null,
        "pivotColumns": null,
        "xColumns": null,
        "yColumns": null
       },
       "removedWidgets": [],
       "schema": [
        {
         "metadata": "{}",
         "name": "Index",
         "type": "\"long\""
        },
        {
         "metadata": "{}",
         "name": "Laptop",
         "type": "\"string\""
        },
        {
         "metadata": "{}",
         "name": "Brand",
         "type": "\"string\""
        },
        {
         "metadata": "{}",
         "name": "Model",
         "type": "\"string\""
        },
        {
         "metadata": "{}",
         "name": "GPU",
         "type": "\"string\""
        },
        {
         "metadata": "{}",
         "name": "Screen",
         "type": "\"double\""
        },
        {
         "metadata": "{}",
         "name": "Price_Dollar",
         "type": "\"double\""
        },
        {
         "metadata": "{}",
         "name": "Purchase_Number",
         "type": "\"long\""
        },
        {
         "metadata": "{}",
         "name": "Country",
         "type": "\"string\""
        },
        {
         "metadata": "{}",
         "name": "Month",
         "type": "\"string\""
        },
        {
         "metadata": "{}",
         "name": "search_score",
         "type": "\"double\""
        }
       ],
       "type": "table"
      }
     },
     "output_type": "display_data"
    }
   ],
   "source": [
    "%sql\n",
    "SELECT * \n",
    "FROM VECTOR_SEARCH(\n",
    "    index => \"databrickshackathon.default.spentinsights\", \n",
    "    query => \"how did Lenova price change over months\", \n",
    "    num_results => 2\n",
    ")"
   ]
  },
  {
   "cell_type": "code",
   "execution_count": 0,
   "metadata": {
    "application/vnd.databricks.v1+cell": {
     "cellMetadata": {
      "byteLimit": 2048000,
      "rowLimit": 10000
     },
     "inputWidgets": {},
     "nuid": "31d7f5ef-a1fe-4826-aa9e-a0e85d3d937c",
     "showTitle": false,
     "tableResultSettingsMap": {},
     "title": ""
    }
   },
   "outputs": [],
   "source": [
    "chain_config = {\n",
    "    \"llm_model_serving_endpoint_name\": \"databricks-dbrx-instruct\",  # The foundation model we want to use\n",
    "    \"vector_search_endpoint_name\": \"spentinsights\",  # Endoint for Vector Search\n",
    "    \"vector_search_index\": \"spentinsights\",\n",
    "    \"llm_prompt_template\": \"\"\"You are an assistant that answers questions. Use the following pieces of retrieved context to answer the question. Some pieces of context may be irrelevant, in which case you should not use them to form the answer.\\n\\nContext: {context}\"\"\", # LLM Prompt template\n",
    "}\n",
    "\n",
    "# Define an input example in the schema required by Agent Framework\n",
    "input_example = {\"messages\": [ {\"role\": \"user\", \"content\": \"Which is the cheapest laptop?\"}]}"
   ]
  },
  {
   "cell_type": "code",
   "execution_count": 0,
   "metadata": {
    "application/vnd.databricks.v1+cell": {
     "cellMetadata": {
      "byteLimit": 2048000,
      "rowLimit": 10000
     },
     "inputWidgets": {},
     "nuid": "7fa70db7-29e8-4628-b2d6-2fb3b5d84111",
     "showTitle": false,
     "tableResultSettingsMap": {},
     "title": ""
    }
   },
   "outputs": [
    {
     "output_type": "display_data",
     "data": {
      "text/plain": [
       "\u001B[0;31m---------------------------------------------------------------------------\u001B[0m\n",
       "\u001B[0;31mNameError\u001B[0m                                 Traceback (most recent call last)\n",
       "File \u001B[0;32m<command-4030259224505471>, line 16\u001B[0m\n",
       "\u001B[1;32m      1\u001B[0m \u001B[38;5;28;01mimport\u001B[39;00m \u001B[38;5;21;01mmlflow\u001B[39;00m\n",
       "\u001B[1;32m      3\u001B[0m \u001B[38;5;66;03m# Log the model to MLflow\u001B[39;00m\n",
       "\u001B[1;32m      4\u001B[0m \u001B[38;5;66;03m# with mlflow.start_run(run_name=\"databricks-docs-bot\"):\u001B[39;00m\n",
       "\u001B[1;32m      5\u001B[0m \u001B[38;5;66;03m#     logged_chain_info = mlflow.langchain.log_model(\u001B[39;00m\n",
       "\u001B[0;32m   (...)\u001B[0m\n",
       "\u001B[1;32m     14\u001B[0m  \n",
       "\u001B[1;32m     15\u001B[0m \u001B[38;5;66;03m# Test the chain locally to see the MLflow Trace\u001B[39;00m\n",
       "\u001B[0;32m---> 16\u001B[0m chain \u001B[38;5;241m=\u001B[39m mlflow\u001B[38;5;241m.\u001B[39mlangchain\u001B[38;5;241m.\u001B[39mload_model(logged_chain_info\u001B[38;5;241m.\u001B[39mmodel_uri)\n",
       "\u001B[1;32m     17\u001B[0m chain\u001B[38;5;241m.\u001B[39minvoke(input_example)\n",
       "\n",
       "\u001B[0;31mNameError\u001B[0m: name 'logged_chain_info' is not defined"
      ]
     },
     "metadata": {
      "application/vnd.databricks.v1+output": {
       "addedWidgets": {},
       "arguments": {},
       "datasetInfos": [],
       "jupyterProps": {
        "ename": "NameError",
        "evalue": "name 'logged_chain_info' is not defined"
       },
       "metadata": {
        "errorSummary": "<span class='ansi-red-fg'>NameError</span>: name 'logged_chain_info' is not defined"
       },
       "removedWidgets": [],
       "sqlProps": null,
       "stackFrames": [
        "\u001B[0;31m---------------------------------------------------------------------------\u001B[0m",
        "\u001B[0;31mNameError\u001B[0m                                 Traceback (most recent call last)",
        "File \u001B[0;32m<command-4030259224505471>, line 16\u001B[0m\n\u001B[1;32m      1\u001B[0m \u001B[38;5;28;01mimport\u001B[39;00m \u001B[38;5;21;01mmlflow\u001B[39;00m\n\u001B[1;32m      3\u001B[0m \u001B[38;5;66;03m# Log the model to MLflow\u001B[39;00m\n\u001B[1;32m      4\u001B[0m \u001B[38;5;66;03m# with mlflow.start_run(run_name=\"databricks-docs-bot\"):\u001B[39;00m\n\u001B[1;32m      5\u001B[0m \u001B[38;5;66;03m#     logged_chain_info = mlflow.langchain.log_model(\u001B[39;00m\n\u001B[0;32m   (...)\u001B[0m\n\u001B[1;32m     14\u001B[0m  \n\u001B[1;32m     15\u001B[0m \u001B[38;5;66;03m# Test the chain locally to see the MLflow Trace\u001B[39;00m\n\u001B[0;32m---> 16\u001B[0m chain \u001B[38;5;241m=\u001B[39m mlflow\u001B[38;5;241m.\u001B[39mlangchain\u001B[38;5;241m.\u001B[39mload_model(logged_chain_info\u001B[38;5;241m.\u001B[39mmodel_uri)\n\u001B[1;32m     17\u001B[0m chain\u001B[38;5;241m.\u001B[39minvoke(input_example)\n",
        "\u001B[0;31mNameError\u001B[0m: name 'logged_chain_info' is not defined"
       ],
       "type": "baseError"
      }
     },
     "output_type": "display_data"
    }
   ],
   "source": [
    "import mlflow\n",
    " \n",
    "# Log the model to MLflow\n",
    "# with mlflow.start_run(run_name=\"databricks-docs-bot\"):\n",
    "#     logged_chain_info = mlflow.langchain.log_model(\n",
    "#         lc_model=os.path.join(\n",
    "#             os.getcwd(),\n",
    "#             f\"{QUICK_START_REPO_SAVE_FOLDER}/quick_start_demo/sample_rag_chain\",\n",
    "#         ),  # Chain code file from the quick start repo\n",
    "#         model_config=chain_config,  # Chain configuration set above\n",
    "#         artifact_path=\"chain\",  # Required by MLflow\n",
    "#         input_example=input_example,  # Save the chain's input schema.  MLflow will execute the chain before logging and capturing its output schema.\n",
    "#   )\n",
    " \n",
    "# Test the chain locally to see the MLflow Trace\n",
    "chain = mlflow.langchain.load_model(logged_chain_info.model_uri)\n",
    "chain.invoke(input_example)"
   ]
  },
  {
   "cell_type": "code",
   "execution_count": 0,
   "metadata": {
    "application/vnd.databricks.v1+cell": {
     "cellMetadata": {},
     "inputWidgets": {},
     "nuid": "62d7dfa9-1c5f-4482-a30d-0fa61a803374",
     "showTitle": false,
     "tableResultSettingsMap": {},
     "title": ""
    }
   },
   "outputs": [],
   "source": []
  }
 ],
 "metadata": {
  "application/vnd.databricks.v1+notebook": {
   "dashboards": [],
   "environmentMetadata": {
    "base_environment": "",
    "client": "1"
   },
   "language": "python",
   "notebookMetadata": {
    "mostRecentlyExecutedCommandWithImplicitDF": {
     "commandId": -1,
     "dataframes": [
      "_sqldf"
     ]
    },
    "pythonIndentUnit": 4
   },
   "notebookName": "Untitled Notebook 2024-10-30 14:36:22",
   "widgets": {}
  },
  "language_info": {
   "name": "python"
  }
 },
 "nbformat": 4,
 "nbformat_minor": 0
}
