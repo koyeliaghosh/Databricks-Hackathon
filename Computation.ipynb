{
 "cells": [
  {
   "cell_type": "markdown",
   "metadata": {
    "application/vnd.databricks.v1+cell": {
     "cellMetadata": {},
     "inputWidgets": {},
     "nuid": "92957eaa-2dca-4688-8680-478572109f73",
     "showTitle": false,
     "tableResultSettingsMap": {},
     "title": ""
    }
   },
   "source": [
    "# Driver notebook\n",
    "\n",
    "This is an auto-generated notebook created by an AI Playground export. We generated three notebooks in the same folder:\n",
    "- [agent]($./agent): contains the code to build the agent.\n",
    "- [config.yml]($./config.yml): contains the configurations.\n",
    "- [**driver**]($./driver): logs, evaluate, registers, and deploys the agent.\n",
    "\n",
    "This notebook uses Mosaic AI Agent Framework ([AWS](https://docs.databricks.com/en/generative-ai/retrieval-augmented-generation.html) | [Azure](https://learn.microsoft.com/en-us/azure/databricks/generative-ai/retrieval-augmented-generation)) to deploy the agent defined in the [agent]($./agent) notebook. The notebook does the following:\n",
    "1. Logs the agent to MLflow\n",
    "2. Evaluate the agent with Agent Evaluation\n",
    "3. Registers the agent to Unity Catalog\n",
    "4. Deploys the agent to a Model Serving endpoint\n",
    "\n",
    "## Prerequisities\n",
    "\n",
    "- Address all `TODO`s in this notebook.\n",
    "- Review the contents of [config.yml]($./config.yml) as it defines the tools available to your agent, the LLM endpoint, and the agent prompt.\n",
    "- Review and run the [agent]($./agent) notebook in this folder to view the agent's code, iterate on the code, and test outputs.\n",
    "\n",
    "## Next steps\n",
    "\n",
    "After your agent is deployed, you can chat with it in AI playground to perform additional checks, share it with SMEs in your organization for feedback, or embed it in a production application. See docs ([AWS](https://docs.databricks.com/en/generative-ai/deploy-agent.html) | [Azure](https://learn.microsoft.com/en-us/azure/databricks/generative-ai/deploy-agent)) for details"
   ]
  },
  {
   "cell_type": "code",
   "execution_count": 0,
   "metadata": {
    "application/vnd.databricks.v1+cell": {
     "cellMetadata": {},
     "inputWidgets": {},
     "nuid": "2cfeea6a-7969-4b02-b4f5-b983d194ebae",
     "showTitle": false,
     "tableResultSettingsMap": {},
     "title": ""
    }
   },
   "outputs": [],
   "source": [
    "%pip install -U -qqqq databricks-agents mlflow langchain==0.2.16 langgraph-checkpoint==1.0.12  langchain_core langchain-community==0.2.16 langgraph==0.2.16 pydantic langchain_databricks\n",
    "dbutils.library.restartPython()"
   ]
  },
  {
   "cell_type": "markdown",
   "metadata": {
    "application/vnd.databricks.v1+cell": {
     "cellMetadata": {},
     "inputWidgets": {},
     "nuid": "c33f9ff4-8c70-441f-9130-3ea8717009c4",
     "showTitle": false,
     "tableResultSettingsMap": {},
     "title": ""
    }
   },
   "source": [
    "### Log the `agent` as an MLflow model\n",
    "Log the agent as code from the [agent]($./agent) notebook. See [MLflow - Models from Code](https://mlflow.org/docs/latest/models.html#models-from-code)."
   ]
  },
  {
   "cell_type": "code",
   "execution_count": 0,
   "metadata": {
    "application/vnd.databricks.v1+cell": {
     "cellMetadata": {},
     "inputWidgets": {},
     "nuid": "dc8a36bd-df59-4ae1-8068-440400b500c7",
     "showTitle": false,
     "tableResultSettingsMap": {},
     "title": ""
    }
   },
   "outputs": [],
   "source": [
    "# Log the model to MLflow\n",
    "import os\n",
    "import mlflow\n",
    "\n",
    "input_example = {\n",
    "    \"messages\": [\n",
    "        {\n",
    "            \"role\": \"user\",\n",
    "            \"content\": \"write the code for a tool which performs mathematical computation\"\n",
    "        }\n",
    "    ]\n",
    "}\n",
    "\n",
    "with mlflow.start_run():\n",
    "    logged_agent_info = mlflow.langchain.log_model(\n",
    "        lc_model=os.path.join(\n",
    "            os.getcwd(),\n",
    "            'agent',\n",
    "        ),\n",
    "        pip_requirements=[\n",
    "            \"langchain==0.2.16\",\n",
    "            \"langchain-community==0.2.16\",\n",
    "            \"langgraph-checkpoint==1.0.12\",\n",
    "            \"langgraph==0.2.16\",\n",
    "            \"pydantic\",\n",
    "            \"langchain_databricks\", # used for the retriever tool\n",
    "        ],\n",
    "        model_config=\"config.yml\",\n",
    "        artifact_path='agent',\n",
    "        input_example=input_example,\n",
    "    )"
   ]
  },
  {
   "cell_type": "markdown",
   "metadata": {
    "application/vnd.databricks.v1+cell": {
     "cellMetadata": {},
     "inputWidgets": {},
     "nuid": "8e899096-a459-4468-8957-a2aed8665bcc",
     "showTitle": false,
     "tableResultSettingsMap": {},
     "title": ""
    }
   },
   "source": [
    "## Evaluate the agent with [Agent Evaluation](https://learn.microsoft.com/azure/databricks/generative-ai/agent-evaluation/)\n",
    "\n",
    "You can edit the requests or expected responses in your evaluation dataset and run evaluation as you iterate your agent, leveraging mlflow to track the computed quality metrics."
   ]
  },
  {
   "cell_type": "code",
   "execution_count": 0,
   "metadata": {
    "application/vnd.databricks.v1+cell": {
     "cellMetadata": {},
     "inputWidgets": {},
     "nuid": "7c416395-9791-4c2a-9c25-0a46bc6f9716",
     "showTitle": false,
     "tableResultSettingsMap": {},
     "title": ""
    }
   },
   "outputs": [],
   "source": [
    "import pandas as pd\n",
    "\n",
    "eval_examples = [\n",
    "    {\n",
    "        \"request\": {\n",
    "            \"messages\": [\n",
    "                {\n",
    "                    \"role\": \"system\",\n",
    "                    \"content\": \"function calling : write the code for a tool which does mathematical computation . Sample code as below :\\n{  \\n  \\\"name\\\": \\\"generate_contextual_response\\\",  \\n  \\\"description\\\": \\\"Generate a contextual response based on user query and retrieved data using a Large Language Model (LLM)\\\",  \\n  \\\"parameters\\\": {  \\n    \\\"type\\\": \\\"object\\\",  \\n    \\\"properties\\\": {  \\n      \\\"user_query\\\": {  \\n        \\\"type\\\": \\\"string\\\",  \\n        \\\"description\\\": \\\"The original query from the user\\\"  \\n      },  \\n      \\\"retrieved_data\\\": {  \\n        \\\"type\\\": \\\"string\\\",  \\n         \\\"description\\\": \\\"The data retrieved from the Databricks search index\\\"  \\n      }  \\n    },  \\n    \\\"required\\\": [  \\n      \\\"user_query\\\",  \\n      \\\"retrieved_data\\\"  \\n    ]  \\n  }  \\n}  \"\n",
    "                },\n",
    "                {\n",
    "                    \"role\": \"user\",\n",
    "                    \"content\": \"write the code for a tool which performs mathematical computation\"\n",
    "                }\n",
    "            ]\n",
    "        },\n",
    "        \"expected_response\": None\n",
    "    },\n",
    "    {\n",
    "        \"request\": {\n",
    "            \"messages\": [\n",
    "                {\n",
    "                    \"role\": \"system\",\n",
    "                    \"content\": \"function calling : write the code for a tool which does mathematical computation . Sample code as below :\\n{  \\n  \\\"name\\\": \\\"generate_contextual_response\\\",  \\n  \\\"description\\\": \\\"Generate a contextual response based on user query and retrieved data using a Large Language Model (LLM)\\\",  \\n  \\\"parameters\\\": {  \\n    \\\"type\\\": \\\"object\\\",  \\n    \\\"properties\\\": {  \\n      \\\"user_query\\\": {  \\n        \\\"type\\\": \\\"string\\\",  \\n        \\\"description\\\": \\\"The original query from the user\\\"  \\n      },  \\n      \\\"retrieved_data\\\": {  \\n        \\\"type\\\": \\\"string\\\",  \\n         \\\"description\\\": \\\"The data retrieved from the Databricks search index\\\"  \\n      }  \\n    },  \\n    \\\"required\\\": [  \\n      \\\"user_query\\\",  \\n      \\\"retrieved_data\\\"  \\n    ]  \\n  }  \\n}  \"\n",
    "                },\n",
    "                {\n",
    "                    \"role\": \"user\",\n",
    "                    \"content\": \"write the code for a tool which performs mathematical computation\"\n",
    "                },\n",
    "                {\n",
    "                    \"role\": \"assistant\",\n",
    "                    \"content\": \"Here is a sample code for a tool that performs mathematical computation:\\n```\\n{\\n  \\\"name\\\": \\\"math_computation\\\",\\n  \\\"description\\\": \\\"Perform mathematical computation\\\",\\n  \\\"parameters\\\": {\\n    \\\"type\\\": \\\"object\\\",\\n    \\\"properties\\\": {\\n      \\\"operation\\\": {\\n        \\\"type\\\": \\\"string\\\",\\n        \\\"description\\\": \\\"The mathematical operation to perform (e.g. addition, subtraction, multiplication, division)\\\"\\n      },\\n      \\\"num1\\\": {\\n        \\\"type\\\": \\\"number\\\",\\n        \\\"description\\\": \\\"The first number\\\"\\n      },\\n      \\\"num2\\\": {\\n        \\\"type\\\": \\\"number\\\",\\n        \\\"description\\\": \\\"The second number\\\"\\n      }\\n    },\\n    \\\"required\\\": [\\n      \\\"operation\\\",\\n      \\\"num1\\\",\\n      \\\"num2\\\"\\n    ]\\n  }\\n}\\n```\\nThis tool takes in three parameters: `operation`, `num1`, and `num2`. The `operation` parameter specifies the mathematical operation to perform, and `num1` and `num2` are the two numbers to operate on.\\n\\nTo call this function, you would use the following format:\\n```\\n<function=math_computation>{\\\"operation\\\": \\\"addition\\\", \\\"num1\\\": 2, \\\"num2\\\": 3}</function>\\n```\\nThis would perform the addition operation on the numbers 2 and 3, and return the result.\\n\\nNote that the `operation` parameter can take on different values, such as \\\"subtraction\\\", \\\"multiplication\\\", \\\"division\\\", etc. The tool would need to be implemented to handle these different operations accordingly.\\n\\nHere is an example implementation of the `math_computation` tool:\\n```\\ndef math_computation(operation, num1, num2):\\n  if operation == \\\"addition\\\":\\n    return num1 + num2\\n  elif operation == \\\"subtraction\\\":\\n    return num1 - num2\\n  elif operation == \\\"multiplication\\\":\\n    return num1 * num2\\n  elif operation == \\\"division\\\":\\n    if num2 != 0:\\n      return num1 / num2\\n    else:\\n      raise ZeroDivisionError(\\\"Cannot divide by zero\\\")\\n  else:\\n    raise ValueError(\\\"Invalid operation\\\")\\n```\\nThis implementation uses a simple if-elif-else statement to determine which operation to perform based on the value of the `operation` parameter. It then returns the result of the operation.\"\n",
    "                },\n",
    "                {\n",
    "                    \"role\": \"user\",\n",
    "                    \"content\": \"Write the code for the function to which does mathematical computation. It has follow the same json format as the sample code\"\n",
    "                }\n",
    "            ]\n",
    "        },\n",
    "        \"expected_response\": None\n",
    "    }\n",
    "]\n",
    "\n",
    "eval_dataset = pd.DataFrame(eval_examples)\n",
    "display(eval_dataset)"
   ]
  },
  {
   "cell_type": "code",
   "execution_count": 0,
   "metadata": {
    "application/vnd.databricks.v1+cell": {
     "cellMetadata": {},
     "inputWidgets": {},
     "nuid": "64422df9-ac09-4ebe-b913-012caba34b91",
     "showTitle": false,
     "tableResultSettingsMap": {},
     "title": ""
    }
   },
   "outputs": [],
   "source": [
    "import mlflow\n",
    "import pandas as pd\n",
    "\n",
    "with mlflow.start_run(run_id=logged_agent_info.run_id):\n",
    "    eval_results = mlflow.evaluate(\n",
    "        f\"runs:/{logged_agent_info.run_id}/agent\",  # replace `chain` with artifact_path that you used when calling log_model.\n",
    "        data=eval_dataset,  # Your evaluation dataset\n",
    "        model_type=\"databricks-agent\",  # Enable Mosaic AI Agent Evaluation\n",
    "    )\n",
    "\n",
    "# Review the evaluation results in the MLFLow UI (see console output), or access them in place:\n",
    "display(eval_results.tables['eval_results'])"
   ]
  },
  {
   "cell_type": "markdown",
   "metadata": {
    "application/vnd.databricks.v1+cell": {
     "cellMetadata": {},
     "inputWidgets": {},
     "nuid": "2198d49f-7309-46d4-9980-7f7519fe5777",
     "showTitle": false,
     "tableResultSettingsMap": {},
     "title": ""
    }
   },
   "source": [
    "## Register the model to Unity Catalog\n",
    "\n",
    "Update the `catalog`, `schema`, and `model_name` below to register the MLflow model to Unity Catalog."
   ]
  },
  {
   "cell_type": "code",
   "execution_count": 0,
   "metadata": {
    "application/vnd.databricks.v1+cell": {
     "cellMetadata": {},
     "inputWidgets": {},
     "nuid": "4aec39be-1470-482d-b0d5-2920ecc8703f",
     "showTitle": false,
     "tableResultSettingsMap": {},
     "title": ""
    }
   },
   "outputs": [],
   "source": [
    "mlflow.set_registry_uri(\"databricks-uc\")\n",
    "\n",
    "# TODO: define the catalog, schema, and model name for your UC model\n",
    "catalog = \"main\"\n",
    "schema = \"default\"\n",
    "model_name = \"\"\n",
    "UC_MODEL_NAME = f\"{catalog}.{schema}.{model_name}\"\n",
    "\n",
    "# register the model to UC\n",
    "uc_registered_model_info = mlflow.register_model(model_uri=logged_agent_info.model_uri, name=UC_MODEL_NAME)"
   ]
  },
  {
   "cell_type": "markdown",
   "metadata": {
    "application/vnd.databricks.v1+cell": {
     "cellMetadata": {},
     "inputWidgets": {},
     "nuid": "5db2564b-675c-44b1-a35c-d4f67df7d3a0",
     "showTitle": false,
     "tableResultSettingsMap": {},
     "title": ""
    }
   },
   "source": [
    "## Deploy the agent"
   ]
  },
  {
   "cell_type": "code",
   "execution_count": 0,
   "metadata": {
    "application/vnd.databricks.v1+cell": {
     "cellMetadata": {},
     "inputWidgets": {},
     "nuid": "f69f12f0-21a5-4cd1-b65b-f629c57a99fe",
     "showTitle": false,
     "tableResultSettingsMap": {},
     "title": ""
    }
   },
   "outputs": [],
   "source": [
    "from databricks import agents\n",
    "\n",
    "# Deploy the model to the review app and a model serving endpoint\n",
    "agents.deploy(UC_MODEL_NAME, uc_registered_model_info.version)"
   ]
  }
 ],
 "metadata": {
  "application/vnd.databricks.v1+notebook": {
   "dashboards": [],
   "environmentMetadata": null,
   "language": "python",
   "notebookMetadata": {
    "pythonIndentUnit": 4
   },
   "notebookName": "driver",
   "widgets": {}
  },
  "language_info": {
   "name": "python"
  }
 },
 "nbformat": 4,
 "nbformat_minor": 0
}
